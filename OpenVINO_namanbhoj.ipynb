{
  "nbformat": 4,
  "nbformat_minor": 0,
  "metadata": {
    "colab": {
      "name": "OpenVINO_namanbhoj",
      "provenance": [],
      "collapsed_sections": [
        "1xaEKim93ZKq",
        "eSnPmKHo3fGM",
        "r_2BHHpV5uS6",
        "9443yXrx5xeV",
        "gCSz0asw57m1",
        "a9-XdoWK6A-H",
        "SQWNppPy6Mn7",
        "dU7x_jRw6ifb",
        "ASvxpNXw6pch",
        "EXtt-peg4F9d",
        "qeYNLJsr4fT4",
        "3Hh76Hnm40JJ"
      ]
    },
    "kernelspec": {
      "name": "python3",
      "display_name": "Python 3"
    },
    "accelerator": "GPU"
  },
  "cells": [
    {
      "cell_type": "code",
      "metadata": {
        "id": "XIuYsXBohvKt",
        "colab": {
          "base_uri": "https://localhost:8080/"
        },
        "outputId": "0cae508d-2c79-4806-adfc-cd7af0a1804a"
      },
      "source": [
        "from google.colab import drive\n",
        "drive.mount('/content/drive') #mount drive\n",
        "!pip install openvino-colab #install openvino for google colab\n",
        "import openvino_colab #import it\n",
        "pip install fastai #install fastai\n",
        "from fastai.vision import *\n",
        "from fastai.metrics import accuracy\n",
        "bs = 16 # make imports from fastai\n",
        "!wget  --backups=1 -q https://ceb.nlm.nih.gov/proj/malaria/cell_images.zip\n",
        "!wget  --backups=1 -q https://ceb.nlm.nih.gov/proj/malaria#/malaria_cell_classification_code.zip\n",
        "!unzip cell_images.zip # downloaded required data now unzip\n",
        "!mv cell_images train\n",
        "!mkdir data\n",
        "!mv train data\n",
        "path = Path(\"./data\") #prepare and preprocess data\n",
        "data = ImageDataBunch.from_folder(path, ds_tfms=get_transforms(), size=128, valid_pct=0.4, bs=16).normalize(imagenet_stats)\n",
        "tlm = create_cnn(data, models.resnet50, metrics=accuracy) #use transfer learning to create model\n",
        "tlm.fit_one_cycle(4) # run for 4 cycles and see accuracy\n",
        "import torch, torchvision # aconvert save to onxx format\n",
        "dummy_input = torch.randn(1, 3, 128, 128, device= 'cuda' )\n",
        "onnx_path =  \"/content/model_fastai.onnx\"\n",
        "torch.onnx.export(tlm.model, dummy_input, onnx_path, verbose=False)\n",
        "print('exported to ' + onnx_path) #retrieve activation function, create labels and get stats to normalize images\n",
        "from fastai import basic_train\n",
        "print(basic_train._loss_func2activ(learn.loss_func))\n",
        "with open(\"blood.classes\", 'w') as dc:\n",
        "  dc.write('\\n'.join(data.classes))\n",
        "with open('/content/norm.txt', 'w') as fd:\n",
        "  fd.write(repr(imagenet_stats))\n",
        "images_path = get_image_files(path, recurse=True)[0:10]\n",
        "images_path\n",
        "images = [open_image(i) for i in images_path] # see sample images\n",
        "show_all(images) #make inferences for images\n",
        "for i, im in enumerate(images):\n",
        "  p = tlm.predict(im)\n",
        "  print(images_path[i], p[0], p[2][p[1]].item())\n"
      ],
      "execution_count": null,
      "outputs": [
        {
          "output_type": "stream",
          "text": [
            "Mounted at /content/drive\n"
          ],
          "name": "stdout"
        }
      ]
    },
    {
      "cell_type": "code",
      "metadata": {
        "id": "w8LA1z-Hl2Q-",
        "colab": {
          "base_uri": "https://localhost:8080/",
          "height": 454
        },
        "outputId": "ad335682-af86-4aea-aa50-8c2e6ff4d43b"
      },
      "source": [
        "tlm.fit_one_cycle(4) "
      ],
      "execution_count": null,
      "outputs": [
        {
          "output_type": "display_data",
          "data": {
            "text/html": [
              "<table border=\"1\" class=\"dataframe\">\n",
              "  <thead>\n",
              "    <tr style=\"text-align: left;\">\n",
              "      <th>epoch</th>\n",
              "      <th>train_loss</th>\n",
              "      <th>valid_loss</th>\n",
              "      <th>accuracy</th>\n",
              "      <th>time</th>\n",
              "    </tr>\n",
              "  </thead>\n",
              "  <tbody>\n",
              "    <tr>\n",
              "      <td>0</td>\n",
              "      <td>0.292479</td>\n",
              "      <td>0.163965</td>\n",
              "      <td>0.939581</td>\n",
              "      <td>01:45</td>\n",
              "    </tr>\n",
              "    <tr>\n",
              "      <td>1</td>\n",
              "      <td>0.184545</td>\n",
              "      <td>0.127200</td>\n",
              "      <td>0.956455</td>\n",
              "      <td>01:46</td>\n",
              "    </tr>\n",
              "    <tr>\n",
              "      <td>2</td>\n",
              "      <td>0.164395</td>\n",
              "      <td>0.116734</td>\n",
              "      <td>0.959902</td>\n",
              "      <td>01:45</td>\n",
              "    </tr>\n",
              "    <tr>\n",
              "      <td>3</td>\n",
              "      <td>0.150029</td>\n",
              "      <td>0.115253</td>\n",
              "      <td>0.958450</td>\n",
              "      <td>01:45</td>\n",
              "    </tr>\n",
              "  </tbody>\n",
              "</table>"
            ],
            "text/plain": [
              "<IPython.core.display.HTML object>"
            ]
          },
          "metadata": {
            "tags": []
          }
        },
        {
          "output_type": "stream",
          "text": [
            "/usr/local/lib/python3.6/dist-packages/torch/nn/functional.py:3103: UserWarning: The default behavior for interpolate/upsample with float scale_factor changed in 1.6.0 to align with other frameworks/libraries, and now uses scale_factor directly, instead of relying on the computed output size. If you wish to restore the old behavior, please set recompute_scale_factor=True. See the documentation of nn.Upsample for details. \n",
            "  warnings.warn(\"The default behavior for interpolate/upsample with float scale_factor changed \"\n",
            "/usr/local/lib/python3.6/dist-packages/torch/nn/functional.py:3103: UserWarning: The default behavior for interpolate/upsample with float scale_factor changed in 1.6.0 to align with other frameworks/libraries, and now uses scale_factor directly, instead of relying on the computed output size. If you wish to restore the old behavior, please set recompute_scale_factor=True. See the documentation of nn.Upsample for details. \n",
            "  warnings.warn(\"The default behavior for interpolate/upsample with float scale_factor changed \"\n",
            "/usr/local/lib/python3.6/dist-packages/torch/nn/functional.py:3103: UserWarning: The default behavior for interpolate/upsample with float scale_factor changed in 1.6.0 to align with other frameworks/libraries, and now uses scale_factor directly, instead of relying on the computed output size. If you wish to restore the old behavior, please set recompute_scale_factor=True. See the documentation of nn.Upsample for details. \n",
            "  warnings.warn(\"The default behavior for interpolate/upsample with float scale_factor changed \"\n",
            "/usr/local/lib/python3.6/dist-packages/torch/nn/functional.py:3103: UserWarning: The default behavior for interpolate/upsample with float scale_factor changed in 1.6.0 to align with other frameworks/libraries, and now uses scale_factor directly, instead of relying on the computed output size. If you wish to restore the old behavior, please set recompute_scale_factor=True. See the documentation of nn.Upsample for details. \n",
            "  warnings.warn(\"The default behavior for interpolate/upsample with float scale_factor changed \"\n",
            "/usr/local/lib/python3.6/dist-packages/torch/nn/functional.py:3103: UserWarning: The default behavior for interpolate/upsample with float scale_factor changed in 1.6.0 to align with other frameworks/libraries, and now uses scale_factor directly, instead of relying on the computed output size. If you wish to restore the old behavior, please set recompute_scale_factor=True. See the documentation of nn.Upsample for details. \n",
            "  warnings.warn(\"The default behavior for interpolate/upsample with float scale_factor changed \"\n",
            "/usr/local/lib/python3.6/dist-packages/torch/nn/functional.py:3103: UserWarning: The default behavior for interpolate/upsample with float scale_factor changed in 1.6.0 to align with other frameworks/libraries, and now uses scale_factor directly, instead of relying on the computed output size. If you wish to restore the old behavior, please set recompute_scale_factor=True. See the documentation of nn.Upsample for details. \n",
            "  warnings.warn(\"The default behavior for interpolate/upsample with float scale_factor changed \"\n",
            "/usr/local/lib/python3.6/dist-packages/torch/nn/functional.py:3103: UserWarning: The default behavior for interpolate/upsample with float scale_factor changed in 1.6.0 to align with other frameworks/libraries, and now uses scale_factor directly, instead of relying on the computed output size. If you wish to restore the old behavior, please set recompute_scale_factor=True. See the documentation of nn.Upsample for details. \n",
            "  warnings.warn(\"The default behavior for interpolate/upsample with float scale_factor changed \"\n",
            "/usr/local/lib/python3.6/dist-packages/torch/nn/functional.py:3103: UserWarning: The default behavior for interpolate/upsample with float scale_factor changed in 1.6.0 to align with other frameworks/libraries, and now uses scale_factor directly, instead of relying on the computed output size. If you wish to restore the old behavior, please set recompute_scale_factor=True. See the documentation of nn.Upsample for details. \n",
            "  warnings.warn(\"The default behavior for interpolate/upsample with float scale_factor changed \"\n"
          ],
          "name": "stderr"
        }
      ]
    },
    {
      "cell_type": "markdown",
      "metadata": {
        "id": "SQWNppPy6Mn7"
      },
      "source": [
        "### fastai to ONNX Conversion"
      ]
    },
    {
      "cell_type": "code",
      "metadata": {
        "id": "PMdRWA7jRSgy",
        "colab": {
          "base_uri": "https://localhost:8080/"
        },
        "outputId": "46dc87dd-ca80-42d3-f1d4-23cdd6570850"
      },
      "source": [
        ""
      ],
      "execution_count": null,
      "outputs": [
        {
          "output_type": "stream",
          "text": [
            "Model exported to /content/model_fastai.onnx\n"
          ],
          "name": "stdout"
        }
      ]
    },
    {
      "cell_type": "code",
      "metadata": {
        "id": "EA7I5GdFRUXr",
        "colab": {
          "base_uri": "https://localhost:8080/"
        },
        "outputId": "13c62abf-0b1e-4e5d-979b-d1f4d1a46336"
      },
      "source": [
        ""
      ],
      "execution_count": null,
      "outputs": [
        {
          "output_type": "stream",
          "text": [
            "functools.partial(<function softmax at 0x7fde0fdb10d0>, dim=-1)\n"
          ],
          "name": "stdout"
        }
      ]
    },
    {
      "cell_type": "markdown",
      "metadata": {
        "id": "dU7x_jRw6ifb"
      },
      "source": [
        "### Data Visualization"
      ]
    },
    {
      "cell_type": "code",
      "metadata": {
        "id": "KEd0oT5Z7zi0",
        "colab": {
          "base_uri": "https://localhost:8080/"
        },
        "outputId": "6783b13e-9abb-43ab-ac99-cfb9244c9d99"
      },
      "source": [
        ""
      ],
      "execution_count": null,
      "outputs": [
        {
          "output_type": "execute_result",
          "data": {
            "text/plain": [
              "[PosixPath('data/train/Parasitized/C179P140ThinF_IMG_20151127_153420_cell_183.png'),\n",
              " PosixPath('data/train/Parasitized/C68P29N_ThinF_IMG_20150819_134326_cell_124.png'),\n",
              " PosixPath('data/train/Parasitized/C132P93ThinF_IMG_20151004_151701_cell_175.png'),\n",
              " PosixPath('data/train/Parasitized/C68P29N_ThinF_IMG_20150819_134326_cell_133.png'),\n",
              " PosixPath('data/train/Parasitized/C133P94ThinF_IMG_20151004_154158_cell_124.png'),\n",
              " PosixPath('data/train/Parasitized/C70P31_ThinF_IMG_20150813_131609_cell_100.png'),\n",
              " PosixPath('data/train/Parasitized/C184P145ThinF_IMG_20151203_102543_cell_158.png'),\n",
              " PosixPath('data/train/Parasitized/C132P93ThinF_IMG_20151004_152353_cell_164.png'),\n",
              " PosixPath('data/train/Parasitized/C91P52ThinF_IMG_20150821_125154_cell_204.png'),\n",
              " PosixPath('data/train/Parasitized/C49P10thinF_IMG_20150724_102951_cell_211.png')]"
            ]
          },
          "metadata": {
            "tags": []
          },
          "execution_count": 43
        }
      ]
    },
    {
      "cell_type": "code",
      "metadata": {
        "id": "CQzebbCb72gR",
        "colab": {
          "base_uri": "https://localhost:8080/",
          "height": 136
        },
        "outputId": "05f04d5a-5c5c-4094-fecb-626b57cf01af"
      },
      "source": [
        ""
      ],
      "execution_count": null,
      "outputs": [
        {
          "output_type": "display_data",
          "data": {
            "image/png": "[encoded data removed]",
            "text/plain": [
              "<Figure size 864x432 with 10 Axes>"
            ]
          },
          "metadata": {
            "tags": [],
            "needs_background": "light"
          }
        }
      ]
    },
    {
      "cell_type": "markdown",
      "metadata": {
        "id": "ASvxpNXw6pch"
      },
      "source": [
        "### fastai based inference"
      ]
    },
    {
      "cell_type": "code",
      "metadata": {
        "id": "tMOh_p6m74Nc",
        "colab": {
          "base_uri": "https://localhost:8080/"
        },
        "outputId": "298f927b-8ce3-45cf-e84a-bab1d44cf3c3"
      },
      "source": [
        "for i, im in enumerate(images):\n",
        "  p = tlm.predict(im)\n",
        "  print(images_path[i], p[0], p[2][p[1]].item())"
      ],
      "execution_count": null,
      "outputs": [
        {
          "output_type": "stream",
          "text": [
            "data/train/Parasitized/C179P140ThinF_IMG_20151127_153420_cell_183.png Parasitized 0.9880130290985107\n",
            "data/train/Parasitized/C68P29N_ThinF_IMG_20150819_134326_cell_124.png Parasitized 0.9928517937660217\n",
            "data/train/Parasitized/C132P93ThinF_IMG_20151004_151701_cell_175.png Parasitized 0.9991095662117004\n",
            "data/train/Parasitized/C68P29N_ThinF_IMG_20150819_134326_cell_133.png Parasitized 0.9344249963760376\n",
            "data/train/Parasitized/C133P94ThinF_IMG_20151004_154158_cell_124.png Parasitized 0.9994333386421204\n",
            "data/train/Parasitized/C70P31_ThinF_IMG_20150813_131609_cell_100.png Parasitized 0.9625959396362305\n",
            "data/train/Parasitized/C184P145ThinF_IMG_20151203_102543_cell_158.png Parasitized 0.9974529147148132\n",
            "data/train/Parasitized/C132P93ThinF_IMG_20151004_152353_cell_164.png Parasitized 0.9999527931213379\n",
            "data/train/Parasitized/C91P52ThinF_IMG_20150821_125154_cell_204.png Parasitized 0.9617692232131958\n",
            "data/train/Parasitized/C49P10thinF_IMG_20150724_102951_cell_211.png Parasitized 0.9010977149009705\n"
          ],
          "name": "stdout"
        }
      ]
    },
    {
      "cell_type": "markdown",
      "metadata": {
        "id": "f2EH89qF8fNw"
      },
      "source": [
        "# OpenVINO Installation & Operations\n"
      ]
    },
    {
      "cell_type": "markdown",
      "metadata": {
        "id": "EXtt-peg4F9d"
      },
      "source": [
        "### Reference: [openvino-colab](https://github.com/alihussainia/openvino-colab)"
      ]
    },
    {
      "cell_type": "code",
      "metadata": {
        "id": "vuqNcsM-8Gqu",
        "colab": {
          "base_uri": "https://localhost:8080/"
        },
        "outputId": "ee370890-d068-4138-ecb6-40fe8f8af58d"
      },
      "source": [
        "!pip install openvino-colab"
      ],
      "execution_count": null,
      "outputs": [
        {
          "output_type": "stream",
          "text": [
            "Requirement already satisfied: openvino-colab in /usr/local/lib/python3.6/dist-packages (3.0.0)\n"
          ],
          "name": "stdout"
        }
      ]
    },
    {
      "cell_type": "code",
      "metadata": {
        "id": "_UOEQdCXfHPW"
      },
      "source": [
        "import openvino_colab"
      ],
      "execution_count": null,
      "outputs": []
    },
    {
      "cell_type": "code",
      "metadata": {
        "id": "VvSKQ5o290KZ"
      },
      "source": [
        "install_dir = \"/opt/intel/openvino/\"\n",
        "model_optimizer = \"/opt/intel/openvino/deployment_tools/model_optimizer/\"\n",
        "deployment_tools = \"/opt/intel/openvino/deployment_tools/\"\n",
        "model_zoo = '/opt/intel/openvino/deployment_tools/open_model_zoo/'"
      ],
      "execution_count": null,
      "outputs": []
    },
    {
      "cell_type": "markdown",
      "metadata": {
        "id": "qeYNLJsr4fT4"
      },
      "source": [
        "### Intermediate Representation"
      ]
    },
    {
      "cell_type": "code",
      "metadata": {
        "id": "KWOWm2Ro98aS",
        "colab": {
          "base_uri": "https://localhost:8080/"
        },
        "outputId": "f1a0ca36-eeb1-480b-f23b-57caf544e726"
      },
      "source": [
        "!pip install onnx=='1.1.2'"
      ],
      "execution_count": null,
      "outputs": [
        {
          "output_type": "stream",
          "text": [
            "Requirement already satisfied: onnx==1.1.2 in /usr/local/lib/python3.6/dist-packages (1.1.2)\n",
            "Requirement already satisfied: numpy in /usr/local/lib/python3.6/dist-packages (from onnx==1.1.2) (1.19.5)\n",
            "Requirement already satisfied: protobuf in /usr/local/lib/python3.6/dist-packages (from onnx==1.1.2) (3.12.4)\n",
            "Requirement already satisfied: six in /usr/local/lib/python3.6/dist-packages (from onnx==1.1.2) (1.15.0)\n",
            "Requirement already satisfied: setuptools in /usr/local/lib/python3.6/dist-packages (from protobuf->onnx==1.1.2) (53.0.0)\n"
          ],
          "name": "stdout"
        }
      ]
    },
    {
      "cell_type": "code",
      "metadata": {
        "id": "bMdT7D3176l6",
        "colab": {
          "base_uri": "https://localhost:8080/"
        },
        "outputId": "40704f35-cae9-465e-f749-af7b905c173b"
      },
      "source": [
        "# create the Intermediate Representation and run inference on the CPU\n",
        "!source /opt/intel/openvino/bin/setupvars.sh &&\\\n",
        "python3 /opt/intel/openvino/deployment_tools/model_optimizer/mo.py \\\n",
        "   --input_model model_fastai.onnx --output_dir ir --data_type FP32"
      ],
      "execution_count": null,
      "outputs": [
        {
          "output_type": "stream",
          "text": [
            "/bin/bash: /opt/intel/openvino/bin/setupvars.sh: No such file or directory\n"
          ],
          "name": "stdout"
        }
      ]
    },
    {
      "cell_type": "markdown",
      "metadata": {
        "id": "3Hh76Hnm40JJ"
      },
      "source": [
        "### Infer.py "
      ]
    },
    {
      "cell_type": "code",
      "metadata": {
        "id": "oLIXadHC8E_6",
        "colab": {
          "base_uri": "https://localhost:8080/"
        },
        "outputId": "13c6661b-a065-43ad-8638-fc71354fae77"
      },
      "source": [
        "!cat ./norm.txt"
      ],
      "execution_count": null,
      "outputs": [
        {
          "output_type": "stream",
          "text": [
            "([0.485, 0.456, 0.406], [0.229, 0.224, 0.225])"
          ],
          "name": "stdout"
        }
      ]
    },
    {
      "cell_type": "code",
      "metadata": {
        "id": "MxPSW2Il-Xzs"
      },
      "source": [
        "# generated a python file (to be able to run it as a script with OpenVINO environment\n",
        "s = r\"\"\"\n",
        "import sys\n",
        "import os\n",
        "from argparse import ArgumentParser\n",
        "import cv2\n",
        "import numpy as np\n",
        "import logging as log\n",
        "from time import time\n",
        "from openvino.inference_engine import IENetwork, IEPlugin\n",
        "import math\n",
        "\n",
        "# here put the values from the norm.txt file\n",
        "\n",
        "resnet_mean = np.array([0.485, 0.456, 0.406], dtype=np.float32)\n",
        "resnet_scale = np.array([0.229, 0.224, 0.225], dtype=np.float32)\n",
        "\n",
        "\n",
        "def preprocess(im, h, w):\n",
        "    assert(h == w == 128)\n",
        "    sz = 128\n",
        "    # convert image to [0-1] RGB, Width Height Channel\n",
        "    im = im.astype(np.float32) / 255\n",
        "    im = cv2.cvtColor(im, cv2.COLOR_BGR2RGB)\n",
        "\n",
        "    # resize and crop center\n",
        "    r,c, *_ = im.shape\n",
        "    ratio = sz / min(r, c)\n",
        "    im = cv2.resize(im, \n",
        "                    (max(math.floor(c * ratio), sz), max(math.floor(r * ratio), sz)),\n",
        "                    interpolation=cv2.INTER_AREA)\n",
        "    startx = math.ceil((im.shape[0] - sz) / 2)\n",
        "    starty = math.ceil((im.shape[1] - sz) / 2)\n",
        "    im = im[startx:startx + sz, starty:starty + sz]\n",
        "\n",
        "    # normalize and convert to Channel Width Height\n",
        "    im = (im - resnet_mean) / resnet_scale\n",
        "    im = im.transpose((2, 0, 1))\n",
        "    return im\n",
        "\n",
        "\n",
        "parser = ArgumentParser()\n",
        "parser.add_argument(\"-m\", \"--model\", help=\"Path to an .xml file with a trained model.\", required=True, type=str)\n",
        "parser.add_argument(\"-i\", \"--input\", help=\"Path to a folder with images or path to an image files\", required=True,\n",
        "                    type=str, nargs=\"+\")\n",
        "parser.add_argument(\"-d\", \"--device\",\n",
        "                    help=\"Specify the target device to infer on; CPU, GPU, FPGA or MYRIAD is acceptable. Sample \"\n",
        "                         \"will look for a suitable plugin for device specified (CPU by default)\", default=\"CPU\",\n",
        "                    type=str)\n",
        "parser.add_argument(\"--labels\", help=\"Labels mapping file\", default=None, type=str)\n",
        "parser.add_argument(\"-nt\", \"--number_top\", help=\"Number of top results\", default=10, type=int)\n",
        "\n",
        "\n",
        "log.basicConfig(format=\"[ %(levelname)s ] %(message)s\", level=log.INFO, stream=sys.stdout)\n",
        "args = parser.parse_args()\n",
        "model_xml = args.model\n",
        "model_bin = os.path.splitext(model_xml)[0] + \".bin\"\n",
        "\n",
        "# Plugin initialization for specified device and load extensions library if specified\n",
        "plugin = IEPlugin(device=args.device)\n",
        "# Read IR\n",
        "log.info(\"Loading network files:\\n\\t{}\\n\\t{}\".format(model_xml, model_bin))\n",
        "net = IENetwork(model=model_xml, weights=model_bin)\n",
        "\n",
        "assert len(net.inputs.keys()) == 1, \"Sample supports only single input topologies\"\n",
        "assert len(net.outputs) == 1, \"Sample supports only single output topologies\"\n",
        "\n",
        "log.info(\"Preparing input blobs\")\n",
        "input_blob = next(iter(net.inputs))\n",
        "out_blob = next(iter(net.outputs))\n",
        "net.batch_size = len(args.input)\n",
        "\n",
        "# Read and pre-process input images\n",
        "n, c, h, w = net.inputs[input_blob].shape\n",
        "images = np.ndarray(shape=(n, c, h, w))\n",
        "for i in range(n):\n",
        "    image = cv2.imread(args.input[i])\n",
        "    image = preprocess(image, h, w)\n",
        "    images[i] = image\n",
        "\n",
        "log.info(\"Loading model to the plugin\")\n",
        "exec_net = plugin.load(network=net)\n",
        "del net\n",
        "\n",
        "log.info(\"Starting inference)\")\n",
        "res = exec_net.infer(inputs={input_blob: images})\n",
        "\n",
        "log.info(\"Processing output blob\")\n",
        "res = res[out_blob]\n",
        "log.info(\"Top {} results: \".format(args.number_top))\n",
        "if args.labels:\n",
        "    with open(args.labels, 'r') as f:\n",
        "        labels_map = [x.split(sep=' ', maxsplit=1)[-1].strip() for x in f]\n",
        "else:\n",
        "    labels_map = None\n",
        "for i, probs in enumerate(res):\n",
        "    probs = np.squeeze(probs)\n",
        "    \n",
        "    #### add the softmax layer manually\n",
        "    probs = np.exp(probs)/sum(np.exp(probs))\n",
        "    ####\n",
        "    \n",
        "    top_ind = np.argsort(probs)[-args.number_top:][::-1]\n",
        "    print(\"Image {}\".format(args.input[i]))\n",
        "    for id in top_ind:\n",
        "        det_label = labels_map[id] if labels_map else \"#{}\".format(id)\n",
        "        print(\"{:.7f} label {}\".format(probs[id], det_label))\n",
        "    print(\"\")\n",
        "\n",
        "del exec_net\n",
        "del plugin\n",
        "\"\"\"\n",
        "with open(\"infer.py\", 'w') as pf:\n",
        "  pf.write(s)"
      ],
      "execution_count": null,
      "outputs": []
    },
    {
      "cell_type": "markdown",
      "metadata": {
        "id": "XYiYQiOZ469G"
      },
      "source": [
        "# Final Inferences "
      ]
    },
    {
      "cell_type": "code",
      "metadata": {
        "id": "EB_FxQimAzyI",
        "colab": {
          "base_uri": "https://localhost:8080/"
        },
        "outputId": "89d20f3f-2f9f-4db6-90d9-c523db89958b"
      },
      "source": [
        "!source /opt/intel/openvino/bin/setupvars.sh &&\\\n",
        " python3 infer.py -d CPU -m ir/model_fastai.xml \\\n",
        " --labels blood.classes \\\n",
        " -nt 1 -i {images_path[0]} {images_path[1]} {images_path[2]} {images_path[3]}"
      ],
      "execution_count": null,
      "outputs": [
        {
          "output_type": "stream",
          "text": [
            "/bin/bash: /opt/intel/openvino/bin/setupvars.sh: No such file or directory\n"
          ],
          "name": "stdout"
        }
      ]
    },
    {
      "cell_type": "code",
      "metadata": {
        "id": "M8Id3y_Rg9wg"
      },
      "source": [
        ""
      ],
      "execution_count": null,
      "outputs": []
    }
  ]
}